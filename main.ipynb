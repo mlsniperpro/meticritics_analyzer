{
 "cells": [
  {
   "cell_type": "code",
   "execution_count": 3,
   "id": "1e8323f2",
   "metadata": {},
   "outputs": [],
   "source": [
    "from urllib.request import Request, urlopen\n",
    "from bs4 import BeautifulSoup\n",
    "import certifi,csv,time\n",
    "import warnings\n",
    "import random\n",
    "warnings.filterwarnings('ignore')\n",
    "import numpy as np\n",
    "import pandas as pd"
   ]
  },
  {
   "cell_type": "code",
   "execution_count": 138,
   "id": "331bc678",
   "metadata": {},
   "outputs": [],
   "source": [
    "movie_info = [\"movie_name\",\"actors_List\",\"genre_list\"]\n",
    "data_list = []\n",
    "data_list_iterator = 0\n"
   ]
  },
  {
   "cell_type": "code",
   "execution_count": 139,
   "id": "e3274d0d",
   "metadata": {},
   "outputs": [],
   "source": [
    "#Defining the list of base urls to scrap\n",
    "url_list = [\"https://www.metacritic.com/browse/movies/score/metascore/all/filtered?sort=desc\",\n",
    "           \"https://www.metacritic.com/browse/movies/score/metascore/all/filtered?sort=desc&page=1\",\n",
    "           \"https://www.metacritic.com/browse/movies/score/metascore/all/filtered?sort=desc&page=2\",\n",
    "           \"https://www.metacritic.com/browse/movies/score/metascore/all/filtered?sort=desc&page=3\",\n",
    "           \"https://www.metacritic.com/browse/movies/score/metascore/all/filtered?sort=desc&page=4\"]"
   ]
  },
  {
   "cell_type": "code",
   "execution_count": 248,
   "id": "a669e027",
   "metadata": {},
   "outputs": [
    {
     "name": "stdout",
     "output_type": "stream",
     "text": [
      "199\n",
      "199\n",
      "199\n",
      "199\n",
      "199\n"
     ]
    }
   ],
   "source": [
    "specific_movies_links = []\n",
    "messy_links = []\n",
    "for url in url_list:\n",
    "    bs=BeautifulSoup(urlopen(Request(url, headers={'User-Agent': 'Mozilla/5.0'}),cafile=certifi.where()).read())\n",
    "    temporary_messy = list(bs.find_all(\"tr\"))\n",
    "    print(len(temporary_messy))\n",
    "    messy_links.append(temporary_messy)\n",
    "#specific_movies_links = [\"https://www.metacritic.com\"+temporary_messy[i].a.attrs[\"href\"]+\"/details\" for i in range(0,len(temporary_messy),2)]\n"
   ]
  },
  {
   "cell_type": "code",
   "execution_count": 249,
   "id": "5e2fbfd6",
   "metadata": {},
   "outputs": [],
   "source": [
    "for link_list in messy_links:\n",
    "    for i  in range(0,len(link_list),2):\n",
    "        specific_movies_links.append(\"https://www.metacritic.com\"+link_list[i].a.attrs[\"href\"]+\"/details\")"
   ]
  },
  {
   "cell_type": "code",
   "execution_count": 269,
   "id": "4548bb49",
   "metadata": {},
   "outputs": [],
   "source": [
    "new_messy = []\n",
    "for link_list in messy_links:\n",
    "    for individual_url in link_list:\n",
    "        new_messy.append(individual_url)\n",
    "    new_messy.append(\"I am a placeholder\")\n",
    "messy_links = new_messy"
   ]
  },
  {
   "cell_type": "code",
   "execution_count": 58,
   "id": "dc3bb7f3",
   "metadata": {},
   "outputs": [],
   "source": [
    "def scrap_movie_details(movie_url):\n",
    "    global data_list_iterator, data_list\n",
    "    bs_movie = BeautifulSoup(urlopen(Request(movie_url, headers={'User-Agent': 'Mozilla/5.0'}),cafile=certifi.where()).read())\n",
    "    genres = bs_movie.find_all(\"tr\",{\"class\":\"genres\"})[0].find_all(\"span\")\n",
    "    genres_list = [value.get_text().strip() for value in genres]\n",
    "    movie_name = messy_links[data_list_iterator].h3.get_text().lower()\n",
    "    temp_actors = []\n",
    "    actors_data= {}\n",
    "    actors_raw_data = bs_movie.find_all(\"table\",{\"class\":\"credits\"})[2:4]\n",
    "    for data in actors_raw_data:\n",
    "        td_List = data.find_all(\"td\")\n",
    "        for name in td_List:\n",
    "            temp_actors.append(name.get_text().strip())\n",
    "    for i in range(0,len(temp_actors),2):\n",
    "        actors_data[temp_actors[i]]=temp_actors[i+1]\n",
    "    data_list.append({\"movie_name\":movie_name,\"genre_list\":genres_list,\"actors_List\":actors_data})\n",
    "    data_list_iterator += 2      "
   ]
  },
  {
   "cell_type": "code",
   "execution_count": 274,
   "id": "b4618776",
   "metadata": {},
   "outputs": [],
   "source": [
    "start = 0\n",
    "end = len(specific_movies_links)"
   ]
  },
  {
   "cell_type": "code",
   "execution_count": 292,
   "id": "44602c4c",
   "metadata": {
    "scrolled": true
   },
   "outputs": [
    {
     "name": "stdout",
     "output_type": "stream",
     "text": [
      "All data collected\n"
     ]
    }
   ],
   "source": [
    "for i in range(start,end):\n",
    "    scrap_movie_details(specific_movies_links[i])\n",
    "    start += 1\n",
    "    if start>=end:\n",
    "        print(\"All data collected\")\n",
    "        break"
   ]
  },
  {
   "cell_type": "code",
   "execution_count": 307,
   "id": "ea7f3399",
   "metadata": {},
   "outputs": [],
   "source": [
    "with open('movie_data.csv', 'w') as csvfile:\n",
    "    writer = csv.DictWriter(csvfile, fieldnames = movie_info)\n",
    "    writer.writeheader()\n",
    "    writer.writerows(data_list)"
   ]
  },
  {
   "cell_type": "code",
   "execution_count": 4,
   "id": "8bafe316",
   "metadata": {},
   "outputs": [
    {
     "name": "stdout",
     "output_type": "stream",
     "text": [
      "What do you want to check on Meticritics? Please choose 'movie','people' or 'comparison' comparison\n",
      "Who do you want to compare? \n",
      "Enter the name of the first person: Joseph Cotten\n",
      "Enter the name of the second person: Frank Cady\n",
      "Joseph Cotten has acted in Citizen Kane, The Third Man, Shadow of a Doubt, The Magnificent Ambersons, F for Fake, ...etc\n",
      "His most often played genres are Thriller :2 Documentary :1 Drama :2 Mystery :2 Romance :1 Film-Noir :1 \n",
      "Frank Cady has acted in Rear Window, ...etc\n",
      "His most often played genres are Thriller :1 Mystery :1 \n",
      "Based on that, they have a cosine similarity score of 0.7302967433402215\n"
     ]
    }
   ],
   "source": [
    "import ast\n",
    "from scipy import spatial\n",
    "df = pd.read_csv(\"movie_data.csv\",encoding='latin-1')\n",
    "item_to_check=input(\"What do you want to check on Meticritics? Please choose 'movie','people' or 'comparison' \").lower()\n",
    "\n",
    "def check_person(their_name):\n",
    "    movies_acted = df.loc[df[\"actors_List\"].str.contains(their_name,case=False)]['movie_name']\n",
    "    people_str = f\"{their_name} has acted in \"\n",
    "    people_genre_str = f\"His most often played genres are \"\n",
    "    grab_genres = df.loc[df[\"actors_List\"].str.contains(their_name,case=False)]['genre_list']\n",
    "    genres_acted = []\n",
    "    for item in grab_genres:\n",
    "        genres_acted.extend(ast.literal_eval(item))\n",
    "    people_genre_str = f\"His most often played genres are \"\n",
    "    genres_acted_set = list(set(genres_acted))\n",
    "    for genre in genres_acted_set:\n",
    "        people_genre_str += genre+f\" :{genres_acted.count(genre)} \"\n",
    "    for i in movies_acted:\n",
    "        people_str += i+\", \"\n",
    "    people_str += \"...etc\"\n",
    "    print(people_str)\n",
    "    print(people_genre_str)\n",
    "    return genres_acted\n",
    "    \n",
    "if item_to_check==\"movie\":\n",
    "    specific_item = input(f'What {item_to_check} do you want to check  ').title()\n",
    "    genre_string =f\"The genre of the movie is \"\n",
    "    actors = df.loc[df['movie_name'] == specific_item][\"actors_List\"]\n",
    "    genres = df.loc[df['movie_name'] == specific_item][\"genre_list\"]\n",
    "    for names in actors:\n",
    "        actors_string = names\n",
    "    actors_string = actors_string.replace(\"\\'\", \"\\\"\")\n",
    "    actors_list = actors_string.split(\",\")\n",
    "    string_result = f\"\\n\\nThe cast of the movie {specific_item}  includes \"\n",
    "    genre_list = ast.literal_eval([value for value in genres][0])\n",
    "    genre_length = len(genre_list)\n",
    "    for i in range(genre_length):\n",
    "        if i < genre_length-1:\n",
    "            genre_string += genre_list[i]+\", \"\n",
    "        else:\n",
    "            genre_string += genre_list[i]+\".\"\n",
    "    for value in actors_list:\n",
    "        string_result+=value[2:-2].split(\":\")[0]+ \" as \"+value[2:-2].split(\":\")[1]+','\n",
    "    print(string_result)\n",
    "    print(\"\\n\\n\"+genre_string)\n",
    "elif item_to_check == \"people\":\n",
    "    name = input(\"Who do you want to check?\")\n",
    "    check_person(name.title())\n",
    "elif item_to_check == \"comparison\":\n",
    "    print(\"Who do you want to compare? \")\n",
    "    first_person = input(\"Enter the name of the first person: \")\n",
    "    second_person = input(\"Enter the name of the second person: \")\n",
    "    first_person_genres = check_person(first_person)\n",
    "    second_person_genres = check_person(second_person)\n",
    "    raw_genres_list = []\n",
    "    raw_genres_list.extend(second_person_genres)\n",
    "    raw_genres_list.extend(first_person_genres)\n",
    "    genres_total_list = []\n",
    "    first_person_array =[]\n",
    "    second_person_array = []\n",
    "    genres_set = set(raw_genres_list)\n",
    "    genres_set = sorted(list(genres_set))\n",
    "    for value in genres_set:\n",
    "        first_person_array.append(first_person_genres.count(value))\n",
    "        second_person_array.append(second_person_genres.count(value))\n",
    "    cosine_similarity = 1 - spatial.distance.cosine(first_person_array, second_person_array)\n",
    "    print(f\"Based on that, they have a cosine similarity score of {cosine_similarity}\")\n",
    "else:\n",
    "    print(\"Please you have to enter either 'people','movie' or 'comparison to proceed'\")"
   ]
  }
 ],
 "metadata": {
  "kernelspec": {
   "display_name": "Python 3",
   "language": "python",
   "name": "python3"
  },
  "language_info": {
   "codemirror_mode": {
    "name": "ipython",
    "version": 3
   },
   "file_extension": ".py",
   "mimetype": "text/x-python",
   "name": "python",
   "nbconvert_exporter": "python",
   "pygments_lexer": "ipython3",
   "version": "3.8.8"
  }
 },
 "nbformat": 4,
 "nbformat_minor": 5
}
